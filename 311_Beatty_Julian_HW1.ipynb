{
 "cells": [
  {
   "cell_type": "code",
   "execution_count": 2,
   "id": "e797439b-6753-4019-b1ab-4c7bde1337d5",
   "metadata": {
    "tags": []
   },
   "outputs": [],
   "source": [
    "import pandas as pd\n",
    "import numpy as np\n",
    "import matplotlib.pyplot as plt\n",
    "from sklearn.linear_model import LogisticRegression\n",
    "from sklearn import model_selection\n",
    "from sklearn.metrics import accuracy_score\n",
    "from sklearn.metrics import f1_score\n",
    "from sklearn.metrics import classification_report\n",
    "from sklearn.neighbors import KNeighborsClassifier   # we will use the kNN classifier template model\n",
    "from sklearn.metrics import confusion_matrix\n",
    "from sklearn.model_selection import cross_val_score"
   ]
  },
  {
   "cell_type": "code",
   "execution_count": 4,
   "id": "2e2bcdca-5a20-406f-b925-7919709f7b6f",
   "metadata": {
    "tags": []
   },
   "outputs": [
    {
     "name": "stdout",
     "output_type": "stream",
     "text": [
      "       FlowPattern          Vsl          Vsg          VisL          VisG  \\\n",
      "count  5675.000000  5675.000000  5675.000000  5.675000e+03  5.675000e+03   \n",
      "mean      4.059912     0.899747     6.222612  1.000000e-03  2.000000e-05   \n",
      "std       1.379238     1.425159     8.699644  4.055273e-17  2.361736e-18   \n",
      "min       1.000000     0.001100     0.003720  1.000000e-03  2.000000e-05   \n",
      "25%       3.000000     0.016000     0.162055  1.000000e-03  2.000000e-05   \n",
      "50%       5.000000     0.250000     1.600000  1.000000e-03  2.000000e-05   \n",
      "75%       5.000000     1.500000    10.000000  1.000000e-03  2.000000e-05   \n",
      "max       7.000000    25.517000    42.956200  1.000000e-03  2.000000e-05   \n",
      "\n",
      "         DenL          DenG            ST          Ang           ID  \n",
      "count  5675.0  5.675000e+03  5.675000e+03  5675.000000  5675.000000  \n",
      "mean   1000.0  1.800000e+00  7.000000e-02     2.727401     0.038657  \n",
      "std       0.0  4.108187e-14  5.690394e-15    46.202822     0.012985  \n",
      "min    1000.0  1.800000e+00  7.000000e-02   -90.000000     0.025000  \n",
      "25%    1000.0  1.800000e+00  7.000000e-02   -10.000000     0.025000  \n",
      "50%    1000.0  1.800000e+00  7.000000e-02     0.500000     0.051000  \n",
      "75%    1000.0  1.800000e+00  7.000000e-02    20.000000     0.051000  \n",
      "max    1000.0  1.800000e+00  7.000000e-02    90.000000     0.051000  \n"
     ]
    },
    {
     "data": {
      "image/png": "[encoded data removed]",
      "text/plain": [
       "<Figure size 1000x600 with 1 Axes>"
      ]
     },
     "metadata": {},
     "output_type": "display_data"
    }
   ],
   "source": [
    "###QUESTION 1\n",
    "##Loading dataset via panadas, taking the first row as the header\n",
    "df=pd.read_csv('BDOShoham.csv',header=0)\n",
    "#summarizes the dataframe\n",
    "print(df.describe()) ##deliverable for question 1\n",
    "\n",
    "plt.figure(figsize=(10, 6))\n",
    "plt.boxplot([df['Vsl'], df['Vsg'], df['Ang']], labels=['Vsl', 'Vsg', 'ANG'])\n",
    "plt.title('Box and Whiskers Plot')\n",
    "plt.xlabel('Variables')\n",
    "plt.ylabel('Values')\n",
    "plt.show() ##deliverable for question 1\n"
   ]
  },
  {
   "cell_type": "code",
   "execution_count": 6,
   "id": "3a9853b2-d65b-4fe5-8a22-84b81f30db62",
   "metadata": {
    "tags": []
   },
   "outputs": [
    {
     "name": "stdout",
     "output_type": "stream",
     "text": [
      "           Vsg    Ang      Vsl\n",
      "3192   0.04000   0.25  2.49795\n",
      "1514   0.08058  30.00  2.34387\n",
      "5248   0.06332  50.00  0.40010\n",
      "4377   0.01600  -1.00  0.10000\n",
      "5449   9.45435  90.00  0.15521\n",
      "...        ...    ...      ...\n",
      "4307   2.47454  30.00  0.00385\n",
      "2550   0.10212  70.00  0.00396\n",
      "537   10.00000   2.00  0.00250\n",
      "1220  16.00000 -10.00  0.06300\n",
      "4271   0.24920  30.00  0.98217\n",
      "\n",
      "[4540 rows x 3 columns]\n"
     ]
    }
   ],
   "source": [
    "#Question 2 Creating a training set, and test set in a reproducible manner\n",
    "df=df[[\"FlowPattern\",\"Vsg\",\"Ang\",\"Vsl\"]] ##keep only the variables that we need\n",
    "\n",
    "\n",
    "###Splitting into test data and training date \n",
    "test_pct = 0.20   # reserve 20% of the data points for testing performance\n",
    "seed = 7          # specifying the seed allows for repeatability\n",
    "X=df[[\"Vsg\",\"Ang\",\"Vsl\"]]\n",
    "y=df[[\"FlowPattern\"]]\n",
    "\n",
    "X_train, X_test, y_train, y_test = model_selection.train_test_split(X, y, test_size=test_pct, random_state=seed) ###deliverable for Question 2\n",
    "print(X_train)"
   ]
  },
  {
   "cell_type": "code",
   "execution_count": 12,
   "id": "de3dbbce-5428-442f-884c-1b465c2372d2",
   "metadata": {
    "tags": []
   },
   "outputs": [
    {
     "name": "stdout",
     "output_type": "stream",
     "text": [
      "              precision    recall  f1-score   support\n",
      "\n",
      "           1       0.84      0.56      0.67       478\n",
      "           2       0.00      0.00      0.00       113\n",
      "           3       0.42      0.12      0.19       694\n",
      "           4       0.66      0.64      0.65       816\n",
      "           5       0.67      0.92      0.78      2335\n",
      "           7       0.00      0.00      0.00       104\n",
      "\n",
      "    accuracy                           0.67      4540\n",
      "   macro avg       0.43      0.37      0.38      4540\n",
      "weighted avg       0.61      0.67      0.61      4540\n",
      "\n",
      "[[ 266    0    2    1  209    0]\n",
      " [   0    0    0    0  113    0]\n",
      " [   3    0   83  165  443    0]\n",
      " [   0    0   89  524  203    0]\n",
      " [  48    0   23  108 2156    0]\n",
      " [   0    0    0    0  104    0]]\n",
      "F1 Scores for each fold: [0.62227382 0.62696128 0.60114643 0.61326294 0.60759094]\n",
      "Mean score for default model 0.6142470810065276\n"
     ]
    },
    {
     "name": "stderr",
     "output_type": "stream",
     "text": [
      "C:\\Users\\beatt\\anaconda3\\Lib\\site-packages\\sklearn\\utils\\validation.py:1310: DataConversionWarning: A column-vector y was passed when a 1d array was expected. Please change the shape of y to (n_samples, ), for example using ravel().\n",
      "  y = column_or_1d(y, warn=True)\n",
      "C:\\Users\\beatt\\anaconda3\\Lib\\site-packages\\sklearn\\metrics\\_classification.py:1517: UndefinedMetricWarning: Precision is ill-defined and being set to 0.0 in labels with no predicted samples. Use `zero_division` parameter to control this behavior.\n",
      "  _warn_prf(average, modifier, f\"{metric.capitalize()} is\", len(result))\n",
      "C:\\Users\\beatt\\anaconda3\\Lib\\site-packages\\sklearn\\metrics\\_classification.py:1517: UndefinedMetricWarning: Precision is ill-defined and being set to 0.0 in labels with no predicted samples. Use `zero_division` parameter to control this behavior.\n",
      "  _warn_prf(average, modifier, f\"{metric.capitalize()} is\", len(result))\n",
      "C:\\Users\\beatt\\anaconda3\\Lib\\site-packages\\sklearn\\metrics\\_classification.py:1517: UndefinedMetricWarning: Precision is ill-defined and being set to 0.0 in labels with no predicted samples. Use `zero_division` parameter to control this behavior.\n",
      "  _warn_prf(average, modifier, f\"{metric.capitalize()} is\", len(result))\n",
      "C:\\Users\\beatt\\anaconda3\\Lib\\site-packages\\sklearn\\utils\\validation.py:1310: DataConversionWarning: A column-vector y was passed when a 1d array was expected. Please change the shape of y to (n_samples, ), for example using ravel().\n",
      "  y = column_or_1d(y, warn=True)\n",
      "C:\\Users\\beatt\\anaconda3\\Lib\\site-packages\\sklearn\\utils\\validation.py:1310: DataConversionWarning: A column-vector y was passed when a 1d array was expected. Please change the shape of y to (n_samples, ), for example using ravel().\n",
      "  y = column_or_1d(y, warn=True)\n",
      "C:\\Users\\beatt\\anaconda3\\Lib\\site-packages\\sklearn\\utils\\validation.py:1310: DataConversionWarning: A column-vector y was passed when a 1d array was expected. Please change the shape of y to (n_samples, ), for example using ravel().\n",
      "  y = column_or_1d(y, warn=True)\n",
      "C:\\Users\\beatt\\anaconda3\\Lib\\site-packages\\sklearn\\utils\\validation.py:1310: DataConversionWarning: A column-vector y was passed when a 1d array was expected. Please change the shape of y to (n_samples, ), for example using ravel().\n",
      "  y = column_or_1d(y, warn=True)\n",
      "C:\\Users\\beatt\\anaconda3\\Lib\\site-packages\\sklearn\\utils\\validation.py:1310: DataConversionWarning: A column-vector y was passed when a 1d array was expected. Please change the shape of y to (n_samples, ), for example using ravel().\n",
      "  y = column_or_1d(y, warn=True)\n"
     ]
    }
   ],
   "source": [
    "##Question 3 Part A-Logistc regression\n",
    "logit_model = LogisticRegression(solver='liblinear')\n",
    "logit_model.fit(X_train, y_train)  # train the model on the training data\n",
    "y_predicted = logit_model.predict(X_train)  # make predictions using the validation data \n",
    "\n",
    "##clasification report\n",
    "print(classification_report(y_train, y_predicted)) ##deliverable for Q3\n",
    "\n",
    "cm_log = confusion_matrix(y_train, y_predicted) \n",
    "print(cm_log) ##deliverable Q3\n",
    "scores_log = cross_val_score(logit_model, X_train, y_train, cv=5, scoring='f1_weighted')\n",
    "mean_score=np.mean(scores_log)\n",
    "\n",
    "print(\"F1 Scores for each fold:\", scores_log) ##cross validation score using training set\n",
    "print(\"Mean score for default model\", mean_score)\n"
   ]
  },
  {
   "cell_type": "code",
   "execution_count": 14,
   "id": "bb06655f-9ec9-4718-a37a-cc1820392120",
   "metadata": {
    "tags": []
   },
   "outputs": [
    {
     "name": "stderr",
     "output_type": "stream",
     "text": [
      "C:\\Users\\beatt\\anaconda3\\Lib\\site-packages\\sklearn\\neighbors\\_classification.py:238: DataConversionWarning: A column-vector y was passed when a 1d array was expected. Please change the shape of y to (n_samples,), for example using ravel().\n",
      "  return self._fit(X, y)\n",
      "C:\\Users\\beatt\\anaconda3\\Lib\\site-packages\\sklearn\\neighbors\\_classification.py:238: DataConversionWarning: A column-vector y was passed when a 1d array was expected. Please change the shape of y to (n_samples,), for example using ravel().\n",
      "  return self._fit(X, y)\n",
      "C:\\Users\\beatt\\anaconda3\\Lib\\site-packages\\sklearn\\neighbors\\_classification.py:238: DataConversionWarning: A column-vector y was passed when a 1d array was expected. Please change the shape of y to (n_samples,), for example using ravel().\n",
      "  return self._fit(X, y)\n",
      "C:\\Users\\beatt\\anaconda3\\Lib\\site-packages\\sklearn\\neighbors\\_classification.py:238: DataConversionWarning: A column-vector y was passed when a 1d array was expected. Please change the shape of y to (n_samples,), for example using ravel().\n",
      "  return self._fit(X, y)\n",
      "C:\\Users\\beatt\\anaconda3\\Lib\\site-packages\\sklearn\\neighbors\\_classification.py:238: DataConversionWarning: A column-vector y was passed when a 1d array was expected. Please change the shape of y to (n_samples,), for example using ravel().\n",
      "  return self._fit(X, y)\n"
     ]
    },
    {
     "name": "stdout",
     "output_type": "stream",
     "text": [
      "              precision    recall  f1-score   support\n",
      "\n",
      "           1       0.91      0.92      0.92       478\n",
      "           2       0.93      0.93      0.93       113\n",
      "           3       0.91      0.96      0.93       694\n",
      "           4       0.92      0.92      0.92       816\n",
      "           5       0.96      0.94      0.95      2335\n",
      "           7       0.87      0.94      0.90       104\n",
      "\n",
      "    accuracy                           0.94      4540\n",
      "   macro avg       0.92      0.94      0.93      4540\n",
      "weighted avg       0.94      0.94      0.94      4540\n",
      "\n",
      "[[ 440    0    3    0   35    0]\n",
      " [   0  105    5    0    3    0]\n",
      " [   1    5  665   16    7    0]\n",
      " [   0    0   36  751   29    0]\n",
      " [  41    3   24   53 2199   15]\n",
      " [   0    0    0    0    6   98]]\n",
      "mean score for default model 0.8557524351331989\n",
      "F1 Scores for each fold: [0.86405313 0.85577034 0.85230203 0.86029166 0.84634502]\n"
     ]
    },
    {
     "name": "stderr",
     "output_type": "stream",
     "text": [
      "C:\\Users\\beatt\\anaconda3\\Lib\\site-packages\\sklearn\\neighbors\\_classification.py:238: DataConversionWarning: A column-vector y was passed when a 1d array was expected. Please change the shape of y to (n_samples,), for example using ravel().\n",
      "  return self._fit(X, y)\n"
     ]
    }
   ],
   "source": [
    "##Question 3 Part A-KNN\n",
    "neigh = KNeighborsClassifier(n_neighbors=3)  # base model will only consider the THREE nearest neighbors, and use minowksi metric\n",
    "neigh.fit(X_train,y_train)\n",
    "predicted_y_knn = neigh.predict(X_train)\n",
    "\n",
    "\n",
    "print(classification_report(y_train, predicted_y_knn)) #deliverable for Q3\n",
    "cm_knn = confusion_matrix(y_train, predicted_y_knn)\n",
    "print(cm_knn) ##deliverable for Q3\n",
    "\n",
    "scores_knn = cross_val_score(neigh, X_train, y_train, cv=5, scoring='f1_weighted')\n",
    "mean_score=np.mean(scores_knn)\n",
    "print(\"mean score for default model\", mean_score)\n",
    "print(\"F1 Scores for each fold:\", scores_knn) ##deliverable for Q3\n"
   ]
  },
  {
   "cell_type": "code",
   "execution_count": 16,
   "id": "c7059b38-4e7a-4f45-9cda-8cc20001ff03",
   "metadata": {
    "tags": []
   },
   "outputs": [
    {
     "name": "stdout",
     "output_type": "stream",
     "text": [
      "Mean f1 score for changed model 0.8486071113294908\n",
      "F1 Scores for each fold: [0.85806141 0.85770049 0.84929183 0.84039374 0.83758809]\n"
     ]
    },
    {
     "name": "stderr",
     "output_type": "stream",
     "text": [
      "C:\\Users\\beatt\\anaconda3\\Lib\\site-packages\\sklearn\\neighbors\\_classification.py:238: DataConversionWarning: A column-vector y was passed when a 1d array was expected. Please change the shape of y to (n_samples,), for example using ravel().\n",
      "  return self._fit(X, y)\n",
      "C:\\Users\\beatt\\anaconda3\\Lib\\site-packages\\sklearn\\neighbors\\_classification.py:238: DataConversionWarning: A column-vector y was passed when a 1d array was expected. Please change the shape of y to (n_samples,), for example using ravel().\n",
      "  return self._fit(X, y)\n",
      "C:\\Users\\beatt\\anaconda3\\Lib\\site-packages\\sklearn\\neighbors\\_classification.py:238: DataConversionWarning: A column-vector y was passed when a 1d array was expected. Please change the shape of y to (n_samples,), for example using ravel().\n",
      "  return self._fit(X, y)\n",
      "C:\\Users\\beatt\\anaconda3\\Lib\\site-packages\\sklearn\\neighbors\\_classification.py:238: DataConversionWarning: A column-vector y was passed when a 1d array was expected. Please change the shape of y to (n_samples,), for example using ravel().\n",
      "  return self._fit(X, y)\n",
      "C:\\Users\\beatt\\anaconda3\\Lib\\site-packages\\sklearn\\neighbors\\_classification.py:238: DataConversionWarning: A column-vector y was passed when a 1d array was expected. Please change the shape of y to (n_samples,), for example using ravel().\n",
      "  return self._fit(X, y)\n",
      "C:\\Users\\beatt\\anaconda3\\Lib\\site-packages\\sklearn\\neighbors\\_classification.py:238: DataConversionWarning: A column-vector y was passed when a 1d array was expected. Please change the shape of y to (n_samples,), for example using ravel().\n",
      "  return self._fit(X, y)\n"
     ]
    }
   ],
   "source": [
    "#########################Question 4 KNN, f1 score, changed nearest neighbors to 2 and metric to Euclidean\n",
    "neigh_model_2 = KNeighborsClassifier(n_neighbors=2,metric=\"euclidean\")  # Our model will only consider the THREE nearest neighbors\n",
    "neigh_model_2.fit(X_train,y_train)  \n",
    "\n",
    "predicted_y_knn_model_2 = neigh_model_2.predict(X_test)  \n",
    "scores_knn_model2 = cross_val_score(neigh_model_2, X_train, y_train, cv=5, scoring='f1_weighted')\n",
    "mean_score=np.mean(scores_knn_model2)\n",
    "print(\"Mean f1 score for changed model\", mean_score)\n",
    "print(\"F1 Scores for each fold:\", scores_knn_model2)"
   ]
  },
  {
   "cell_type": "code",
   "execution_count": 18,
   "id": "e0bfdcdf-7599-4b74-b07c-e074deee842b",
   "metadata": {
    "tags": []
   },
   "outputs": [
    {
     "name": "stdout",
     "output_type": "stream",
     "text": [
      "the superior model was the default on: here are the performance reports\n",
      "              precision    recall  f1-score   support\n",
      "\n",
      "           1       0.73      0.82      0.77       116\n",
      "           2       0.81      0.96      0.88        27\n",
      "           3       0.78      0.87      0.82       184\n",
      "           4       0.84      0.81      0.82       217\n",
      "           5       0.92      0.87      0.90       570\n",
      "           7       0.57      0.62      0.59        21\n",
      "\n",
      "    accuracy                           0.85      1135\n",
      "   macro avg       0.78      0.82      0.80      1135\n",
      "weighted avg       0.86      0.85      0.85      1135\n",
      "\n",
      "[[ 95   0   3   0  18   0]\n",
      " [  0  26   0   0   1   0]\n",
      " [  2   6 160  12   4   0]\n",
      " [  0   0  28 175  14   0]\n",
      " [ 29   0  14  21 496  10]\n",
      " [  4   0   0   0   4  13]]\n"
     ]
    },
    {
     "name": "stderr",
     "output_type": "stream",
     "text": [
      "C:\\Users\\beatt\\anaconda3\\Lib\\site-packages\\sklearn\\neighbors\\_classification.py:238: DataConversionWarning: A column-vector y was passed when a 1d array was expected. Please change the shape of y to (n_samples,), for example using ravel().\n",
      "  return self._fit(X, y)\n"
     ]
    }
   ],
   "source": [
    "#Quesiton 5 The best model is the default one, with 3 neighbors, and Minkowsi metric\n",
    "neigh = KNeighborsClassifier(n_neighbors=3)\n",
    "neigh.fit(X_train,y_train)\n",
    "\n",
    "predicted_y_knn = neigh.predict(X_test)  # We're hoping this predicts a \"1\", since this is a \"top and to the right\" point.\n",
    "\n",
    "print(\"the superior model was the default on: here are the performance reports\")\n",
    "print(classification_report(y_test, predicted_y_knn))  #deliverable for 5\n",
    "cm_knn = confusion_matrix(y_test, predicted_y_knn)\n",
    "print(cm_knn)"
   ]
  },
  {
   "cell_type": "code",
   "execution_count": null,
   "id": "2762823f-b976-4849-81a5-6598a9c126c9",
   "metadata": {},
   "outputs": [],
   "source": []
  }
 ],
 "metadata": {
  "kernelspec": {
   "display_name": "Python 3 (ipykernel)",
   "language": "python",
   "name": "python3"
  },
  "language_info": {
   "codemirror_mode": {
    "name": "ipython",
    "version": 3
   },
   "file_extension": ".py",
   "mimetype": "text/x-python",
   "name": "python",
   "nbconvert_exporter": "python",
   "pygments_lexer": "ipython3",
   "version": "3.11.5"
  }
 },
 "nbformat": 4,
 "nbformat_minor": 5
}
